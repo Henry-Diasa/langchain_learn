{
 "cells": [
  {
   "cell_type": "code",
   "execution_count": 1,
   "id": "2051b9f6",
   "metadata": {},
   "outputs": [
    {
     "data": {
      "text/plain": [
       "\u001b[32m\"<think>\\n\"\u001b[39m +\n",
       "  \u001b[32m\"嗯，用户发来“你好”，这看起来是一个简单的问候。我需要先回应这个问候，保持友好和开放的态度。接下来，我应该考虑用户可能的意图。他们可能只是想开始对话，或者有更具体的问题需要帮助。作为AI助手，我应该鼓励用户提出问题或请求帮助，同时保持自然的语气。\\n\"\u001b[39m +\n",
       "  \u001b[32m\"\\n\"\u001b[39m +\n",
       "  \u001b[32m\"用户可能没有明确的需求，所以需要引导他们说出具体的需求。例如，可以询问是否有需要帮助的地方，或者是否想讨论某个话题。同时，要避免过于机械化的回应，让对话显得更人性化。\\n\"\u001b[39m +\n",
       "  \u001b[32m\"\\n\"\u001b[39m +\n",
       "  \u001b[32m\"另外，要注意用户可能的深层需求。有时候，用户可能只是想测试AI的反应，或者寻找某种特定的信息。因此，保持灵活和适应性很重要。比如，如果用户后续提出问题，我需要能够准确理解并提供有用的信息。\\n\"\u001b[39m +\n",
       "  \u001b[32m\"\\n\"\u001b[39m +\n",
       "  \u001b[32m\"还要确保回应简洁明了，不过于冗长。使用口语化的表达，让对话更自然。比如，“你好！有什么我可以帮你的吗？”这样的回应既友好又开放，鼓励用户进一步互动。\\n\"\u001b[39m +\n",
       "  \u001b[32m\"\\n\"\u001b[39m +\n",
       "  \u001b[32m\"最后，检查是否有需要特别注意的地方，比如用户可能的语言习惯或文化背景，确保回应适合不同的情况。总之，保持友好、开放和灵活的态度，是回应“你好”的关键。\\n\"\u001b[39m +\n",
       "  \u001b[32m\"</think>\\n\"\u001b[39m +\n",
       "  \u001b[32m\"\\n\"\u001b[39m +\n",
       "  \u001b[32m\"你好！有什么我可以帮你的吗？😊\"\u001b[39m"
      ]
     },
     "execution_count": 1,
     "metadata": {},
     "output_type": "execute_result"
    }
   ],
   "source": [
    "// StringOutputParser\n",
    "import {ChatOllama} from \"@langchain/community/chat_models/ollama\"\n",
    "import {StringOutputParser} from \"@langchain/core/output_parsers\"\n",
    "const chatModel = new ChatOllama({\n",
    "    model: \"qwen3:8b\",\n",
    "    baseUrl: \"http://localhost:11434\",\n",
    "})\n",
    "const parser = new StringOutputParser()\n",
    "const chain = chatModel.pipe(parser)\n",
    "\n",
    "const res = await chain.invoke(\"你好\")\n",
    "res"
   ]
  },
  {
   "cell_type": "code",
   "execution_count": 2,
   "id": "50a53c3e",
   "metadata": {},
   "outputs": [
    {
     "data": {
      "text/plain": [
       "{\n",
       "  answer: \u001b[32m\"蒙娜丽莎的作者是列奥纳多·达·芬奇，绘制时间为1503年至1519年之间。\"\u001b[39m,\n",
       "  evidence: \u001b[32m\"根据艺术史文献和达·芬奇的创作生平，蒙娜丽莎（《意大利女子》）被确认为达·芬奇的代表作，创作时间普遍认为始于1503年，持续至1519年（达·芬奇去世前）。\"\u001b[39m,\n",
       "  confidence: \u001b[32m\"95%\"\u001b[39m\n",
       "}"
      ]
     },
     "execution_count": 2,
     "metadata": {},
     "output_type": "execute_result"
    }
   ],
   "source": [
    "import {StructuredOutputParser} from \"@langchain/core/output_parsers\"\n",
    "import {PromptTemplate} from \"@langchain/core/prompts\"\n",
    "\n",
    "const parser = StructuredOutputParser.fromNamesAndDescriptions({\n",
    "    answer: \"用户问题的答案\",\n",
    "    evidence: \"你回答用户问题所依据的答案\",\n",
    "    confidence: \"问题答案的可信度评分，格式是百分数\",\n",
    "})\n",
    "const prompt = PromptTemplate.fromTemplate(\"尽可能的回答用的问题 \\n{instructions} \\n{question}\")\n",
    "const chain = prompt.pipe(chatModel).pipe(parser)\n",
    "\n",
    "const res = await chain.invoke({\n",
    "    instructions: parser.getFormatInstructions(),\n",
    "    question: \"蒙娜丽莎的作者是谁？是什么时候绘制的\",\n",
    "})\n",
    "res"
   ]
  },
  {
   "cell_type": "code",
   "execution_count": 3,
   "id": "4c2a9f9d",
   "metadata": {},
   "outputs": [
    {
     "data": {
      "text/plain": [
       "\u001b[32m\"Your response should be a list of comma separated values, eg: `foo, bar, baz`\"\u001b[39m"
      ]
     },
     "execution_count": 3,
     "metadata": {},
     "output_type": "execute_result"
    }
   ],
   "source": [
    "import {CommaSeparatedListOutputParser} from \"@langchain/core/output_parsers\"\n",
    "const parser = new CommaSeparatedListOutputParser()\n",
    "\n",
    "parser.getFormatInstructions()"
   ]
  },
  {
   "cell_type": "code",
   "execution_count": 4,
   "id": "18ae9797",
   "metadata": {},
   "outputs": [
    {
     "data": {
      "text/plain": [
       "[\n",
       "  \u001b[32m\"<think>\\n\"\u001b[39m +\n",
       "    \u001b[32m\"好的，用户让我列出三个中国的著名互联网公司，而且要求用逗号分隔的列表。首先，我需要确认用户的需求是什么。可能他们是在做研究，或者需要这些信息用于某种报告或演示。用户可能对中国的互联网行业感兴趣，或者想了解主要的公司有哪些。\\n\"\u001b[39m +\n",
       "    \u001b[32m\"\\n\"\u001b[39m +\n",
       "    \u001b[32m\"接下来，我要确保回答的准确性。中国有哪些著名的互联网公司呢？阿里巴巴集团肯定是其中之一，他们有淘宝、天猫、支付宝等业务，全球知名。然后是腾讯，旗下有微信、QQ，还有游戏和广告业务，影响力很大。第三个的话，百度也不容忽视，作为中国最大的搜索引擎，虽然近年来面临挑战，但仍然是重要的互联网公司。\\n\"\u001b[39m +\n",
       "    \u001b[32m\"\\n\"\u001b[39m +\n",
       "    \u001b[32m\"不过，用户可能还希望知道其他可能的公司，比如京东、字节跳动或者美团。但问题只要求三个，所以需要选择最著名的。阿里巴巴、腾讯、百度这三个通常会被普遍认为是三大巨头，所以应该没问题。要确认这些公司的正确名称，比如阿里巴巴集团，而不是简称阿里。腾讯的全称是腾讯科技，但通常用腾讯作为简称。百度的全称是百度集团，但同样常用百度。所以正确的格式应该是阿里巴巴集团，腾讯，百度。不过有时候可能直接写阿里、腾讯、百度，但用户可能希望更正式的名称。不过根据常见的列举，可能直接用简称更合适。比如阿里、腾讯、百度。但需要检查是否有更标准的名称。例如，阿里巴巴集团、腾讯科技、百度集团。或者可能用户接受简称。比如阿里、腾讯、百度。但根据之前的例子，用户可能希望更正式的名称。比如阿里巴巴集团，腾讯，百度。或者可能用户希望更简洁的名称，比如阿里、腾讯、百度。需要确定哪种更合适。可能直接使用简称更常见，比如阿里、腾讯、百度。不过有时候也会看到阿里巴巴集团、腾讯、百度。但为了准确，可能应该用全称。例如，阿里巴巴集团，腾讯，百度。不过可能用户只需要三个名字，不管全称还是简称。所以最终决定用阿里巴巴集团，腾讯，百度。或者可能用户希望更简洁的名称，比如阿里、腾讯、百度。可能需要确认。但根据常见的回答，通常会用阿里、腾讯、百度。例如，在很多资料中，这三个公司被列为中国的三大互联网公司。所以最终回答应该是阿里\"\u001b[39m,\n",
       "  \u001b[32m\"腾讯\"\u001b[39m,\n",
       "  \u001b[32m\"百度。或者是否需要更正式的名称？比如阿里巴巴集团，腾讯科技，百度集团？可能用户接受简称，所以阿里、腾讯、百度。但需要确保正确性。比如，百度的全称是百度集团，但通常简称百度。所以正确的三个名称应该是阿里巴巴集团，腾讯，百度。或者可能用户希望更简洁的名称，比如阿里、腾讯、百度。可能两种方式都可以，但根据用户给的例子，比如“foo\"\u001b[39m,\n",
       "  \u001b[32m\"bar\"\u001b[39m,\n",
       "  \u001b[32m\"baz”，所以可能只需要名称，不需要全称。因此，正确的三个公司是阿里巴巴、腾讯、百度。或者可能用户希望更准确的名称，比如阿里巴巴集团，腾讯，百度。可能需要确认。例如，阿里巴巴集团是公司的全称，而阿里是简称。但通常在列举时，可能用简称更常见。所以最终答案应该是阿里\"\u001b[39m,\n",
       "  \u001b[32m\"腾讯\"\u001b[39m,\n",
       "  \u001b[32m\"百度。\\n</think>\\n\\n阿里巴巴集团\"\u001b[39m,\n",
       "  \u001b[32m\"腾讯\"\u001b[39m,\n",
       "  \u001b[32m\"百度\"\u001b[39m\n",
       "]"
      ]
     },
     "execution_count": 4,
     "metadata": {},
     "output_type": "execute_result"
    }
   ],
   "source": [
    "const prompt = PromptTemplate.fromTemplate('列出3个 {country} 的著名的互联网公司.\\n{instructions}')\n",
    "\n",
    "const chain = prompt.pipe(chatModel).pipe(parser)\n",
    "\n",
    "const res = await chain.invoke({\n",
    "    country: \"中国\",\n",
    "    instructions: parser.getFormatInstructions(),\n",
    "})\n",
    "res"
   ]
  },
  {
   "cell_type": "code",
   "execution_count": 5,
   "id": "0cf750de",
   "metadata": {},
   "outputs": [
    {
     "data": {
      "text/plain": [
       "{ answer: \u001b[32m\"《蒙娜丽莎》的作者是列奥纳多·达·芬奇，创作时间大约在1503年至1519年之间。\"\u001b[39m, confidence: \u001b[33m95\u001b[39m }"
      ]
     },
     "execution_count": 5,
     "metadata": {},
     "output_type": "execute_result"
    }
   ],
   "source": [
    "import {z} from \"zod\"\n",
    "\n",
    "const schema = z.object({\n",
    "    answer: z.string().describe(\"用户问题的答案\"),\n",
    "    confidence: z.number().min(0).max(100).describe(\"问题答案的可信度评分，满分是100\"),\n",
    "})\n",
    "const parser = StructuredOutputParser.fromZodSchema(schema);\n",
    "const prompt = PromptTemplate.fromTemplate(\"尽可能的回答用的问题 \\n{instructions} \\n{question}\")\n",
    "\n",
    "const chain = prompt.pipe(chatModel).pipe(parser)\n",
    "\n",
    "const res = await chain.invoke({\n",
    "    instructions: parser.getFormatInstructions(),\n",
    "    question: \"蒙娜丽莎的作者是谁？是什么时候绘制的\",\n",
    "})\n",
    "res"
   ]
  },
  {
   "cell_type": "code",
   "execution_count": 6,
   "id": "c555195f",
   "metadata": {},
   "outputs": [
    {
     "data": {
      "text/plain": [
       "{ answer: \u001b[32m\"蒙娜丽莎的作者是达芬奇，大约在16世纪初期（1503年至1506年之间）开始绘制。\"\u001b[39m, confidence: \u001b[33m95\u001b[39m }"
      ]
     },
     "execution_count": 6,
     "metadata": {},
     "output_type": "execute_result"
    }
   ],
   "source": [
    "import {OutputFixingParser} from \"langchain/output_parsers\"\n",
    "const wrongOutput = {\n",
    "    \"answer\": \"蒙娜丽莎的作者是达芬奇，大约在16世纪初期（1503年至1506年之间）开始绘制。\",\n",
    "    \"confidence\": \"-1\" \n",
    "  };\n",
    "  \n",
    "  const fixParser = OutputFixingParser.fromLLM(chatModel, parser);\n",
    "  const output = await fixParser.parse(JSON.stringify(wrongOutput));\n",
    "  output"
   ]
  }
 ],
 "metadata": {
  "kernelspec": {
   "display_name": "Deno",
   "language": "typescript",
   "name": "deno"
  },
  "language_info": {
   "codemirror_mode": "typescript",
   "file_extension": ".ts",
   "mimetype": "text/x.typescript",
   "name": "typescript",
   "nbconvert_exporter": "script",
   "pygments_lexer": "typescript",
   "version": "5.8.3"
  }
 },
 "nbformat": 4,
 "nbformat_minor": 5
}
