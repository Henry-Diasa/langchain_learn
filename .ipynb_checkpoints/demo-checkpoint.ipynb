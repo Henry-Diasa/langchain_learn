{
 "cells": [
  {
   "cell_type": "code",
   "execution_count": 1,
   "id": "0148309e",
   "metadata": {},
   "outputs": [
    {
     "ename": "TypeError",
     "evalue": "Relative import path \"@langchain/community/llms/ollama\" not prefixed with / or ./ or ../ and not in import map from \"file:///Users/diasa/Desktop/langjs_learn/$deno$repl.mts\"",
     "output_type": "error",
     "traceback": [
      "Stack trace:",
      "TypeError: Relative import path \"@langchain/community/llms/ollama\" not prefixed with / or ./ or ../ and not in import map from \"file:///Users/diasa/Desktop/langjs_learn/$deno$repl.mts\"",
      "    at async <anonymous>:1:41"
     ]
    }
   ],
   "source": [
    "import { Ollama } from \"@langchain/community/llms/ollama\";\n",
    "\n",
    "const ollama = new Ollama({\n",
    "  baseUrl: \"http://localhost:11434\", \n",
    "  model: \"llama2\", \n",
    "});\n",
    "\n",
    "\n",
    "const res = await ollama.invoke(\"讲个笑话\")"
   ]
  }
 ],
 "metadata": {
  "kernelspec": {
   "display_name": "Deno",
   "language": "typescript",
   "name": "deno"
  },
  "language_info": {
   "codemirror_mode": "typescript",
   "file_extension": ".ts",
   "mimetype": "text/x.typescript",
   "name": "typescript",
   "nbconvert_exporter": "script",
   "pygments_lexer": "typescript",
   "version": "5.8.3"
  }
 },
 "nbformat": 4,
 "nbformat_minor": 5
}
