{
 "cells": [
  {
   "cell_type": "code",
   "execution_count": 15,
   "id": "611ada05",
   "metadata": {},
   "outputs": [
    {
     "ename": "TypeError",
     "evalue": "Relative import path \"lodash\" not prefixed with / or ./ or ../",
     "output_type": "error",
     "traceback": [
      "Stack trace:",
      "TypeError: Relative import path \"lodash\" not prefixed with / or ./ or ../",
      "    at async <anonymous>:1:47"
     ]
    }
   ],
   "source": [
    "import _ from \"lodash\""
   ]
  },
  {
   "cell_type": "code",
   "execution_count": null,
   "id": "349c2bd8",
   "metadata": {},
   "outputs": [
    {
     "data": {
      "text/plain": [
       "\u001b[33m15\u001b[39m"
      ]
     },
     "execution_count": 14,
     "metadata": {},
     "output_type": "execute_result"
    }
   ],
   "source": [
    "const a = _.random(10, 20);\n",
    "a"
   ]
  }
 ],
 "metadata": {
  "kernelspec": {
   "display_name": "Deno",
   "language": "typescript",
   "name": "deno"
  },
  "language_info": {
   "codemirror_mode": "typescript",
   "file_extension": ".ts",
   "mimetype": "text/x.typescript",
   "name": "typescript",
   "nbconvert_exporter": "script",
   "pygments_lexer": "typescript",
   "version": "5.8.3"
  }
 },
 "nbformat": 4,
 "nbformat_minor": 5
}
