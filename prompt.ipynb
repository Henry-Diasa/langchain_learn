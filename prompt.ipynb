{
 "cells": [
  {
   "cell_type": "code",
   "execution_count": 1,
   "id": "fb03b9f9",
   "metadata": {},
   "outputs": [
    {
     "data": {
      "text/plain": [
       "\u001b[32m\"Hello, world\"\u001b[39m"
      ]
     },
     "execution_count": 1,
     "metadata": {},
     "output_type": "execute_result"
    }
   ],
   "source": [
    "import { PromptTemplate } from '@langchain/core/prompts'\n",
    "\n",
    "const greetPrompt = new PromptTemplate({\n",
    "    template: \"Hello, world\",\n",
    "    inputVariables: [],\n",
    "})\n",
    "\n",
    "const res = await greetPrompt.format()\n",
    "res"
   ]
  },
  {
   "cell_type": "code",
   "execution_count": 3,
   "id": "270aad3a",
   "metadata": {},
   "outputs": [
    {
     "data": {
      "text/plain": [
       "\u001b[32m\"Hello, John! You are {age} years old.\"\u001b[39m"
      ]
     },
     "execution_count": 3,
     "metadata": {},
     "output_type": "execute_result"
    }
   ],
   "source": [
    "\n",
    "const ParamsPrompt = new PromptTemplate({\n",
    "    // template: \"Hello, {name}! You are {age} years old.\", // \"Hello, John! You are 18 years old.\"\n",
    "    template: \"Hello, {name}! You are {{age}} years old.\", // \"Hello, John! You are {age} years old.\" 转义\n",
    "    inputVariables: [\"name\", \"age\"],\n",
    "})\n",
    "\n",
    "const res1 = await ParamsPrompt.format({ name: \"John\", age: 18 })\n",
    "res1"
   ]
  },
  {
   "cell_type": "code",
   "execution_count": 4,
   "id": "11ceee92",
   "metadata": {},
   "outputs": [
    {
     "data": {
      "text/plain": [
       "[ \u001b[32m\"timeOfDay\"\u001b[39m, \u001b[32m\"name\"\u001b[39m ]"
      ]
     },
     "execution_count": 4,
     "metadata": {},
     "output_type": "execute_result"
    }
   ],
   "source": [
    "\n",
    "const autoInferTemplate = PromptTemplate.fromTemplate(\"good {timeOfDay}, {name}\")\n",
    "autoInferTemplate.inputVariables\n",
    "\n",
    "const format = await autoInferTemplate.format({ timeOfDay: \"morning\", name: \"John\" })\n",
    "// format"
   ]
  },
  {
   "cell_type": "code",
   "execution_count": 5,
   "id": "7c2ecfb8",
   "metadata": {},
   "outputs": [
    {
     "data": {
      "text/plain": [
       "\u001b[32m\"这是一个工具，它是锤子。\"\u001b[39m"
      ]
     },
     "execution_count": 5,
     "metadata": {},
     "output_type": "execute_result"
    }
   ],
   "source": [
    "const initialPrompt = new PromptTemplate({\n",
    "    template: \"这是一个{type}，它是{item}。\",\n",
    "    inputVariables: [\"type\", \"item\"],\n",
    "  });\n",
    "const partial = await initialPrompt.partial({type: \"工具\"})\n",
    "\n",
    "await partial.format({item: \"锤子\"})\n",
    "// await partial.format({item: \"改锥\"})\n",
    "\n"
   ]
  },
  {
   "cell_type": "code",
   "execution_count": 6,
   "id": "f5fba59c",
   "metadata": {},
   "outputs": [
    {
     "data": {
      "text/plain": [
       "\u001b[32m\"今天是8/8/2025，我们去爬山。\"\u001b[39m"
      ]
     },
     "execution_count": 6,
     "metadata": {},
     "output_type": "execute_result"
    }
   ],
   "source": [
    "// 函数作为变量\n",
    "const getCurrentDateStr = () => {\n",
    "  return new Date().toLocaleDateString();\n",
    "};\n",
    "\n",
    "const promptWithDate = new PromptTemplate({\n",
    "  template: \"今天是{date}，{activity}。\",\n",
    "  inputVariables: [\"date\", \"activity\"],\n",
    "});\n",
    "\n",
    "const partialedPromptWithDate = await promptWithDate.partial({\n",
    "  date: getCurrentDateStr,\n",
    "});\n",
    "\n",
    "await partialedPromptWithDate.format({\n",
    "  activity: \"我们去爬山\",\n",
    "});"
   ]
  },
  {
   "cell_type": "code",
   "execution_count": 7,
   "id": "868e1d25",
   "metadata": {},
   "outputs": [
    {
     "data": {
      "text/plain": [
       "\u001b[32m\"8/8/2025 下午好!\"\u001b[39m"
      ]
     },
     "execution_count": 7,
     "metadata": {},
     "output_type": "execute_result"
    }
   ],
   "source": [
    "// 函数传参\n",
    "const getCurrentDateStr = () => {\n",
    "    return new Date().toLocaleDateString();\n",
    "  };\n",
    "  \n",
    "  function generateGreeting(timeOfDay) {\n",
    "    return () => {\n",
    "      const date = getCurrentDateStr()\n",
    "      switch (timeOfDay) {\n",
    "        case 'morning':\n",
    "          return date + ' 早上好';\n",
    "        case 'afternoon':\n",
    "          return date + ' 下午好';\n",
    "        case 'evening':\n",
    "          return date + ' 晚上好';\n",
    "        default:\n",
    "          return date + ' 你好';\n",
    "      }\n",
    "    };\n",
    "  }\n",
    "  \n",
    "  const prompt = new PromptTemplate({\n",
    "    template: \"{greeting}!\",\n",
    "    inputVariables: [\"greeting\"],\n",
    "  });\n",
    "  \n",
    "  const currentTimeOfDay = 'afternoon';\n",
    "  const partialPrompt = await prompt.partial({\n",
    "    greeting: generateGreeting(currentTimeOfDay),\n",
    "  });\n",
    "  \n",
    "await partialPrompt.format();"
   ]
  },
  {
   "cell_type": "code",
   "execution_count": 8,
   "id": "6603d52f",
   "metadata": {},
   "outputs": [
    {
     "data": {
      "text/plain": [
       "[\n",
       "  SystemMessage {\n",
       "    lc_serializable: \u001b[33mtrue\u001b[39m,\n",
       "    lc_kwargs: {\n",
       "      content: \u001b[32m\"你是一个专业的翻译员，你的任务是将文本从中文翻译成法语。\"\u001b[39m,\n",
       "      additional_kwargs: {},\n",
       "      response_metadata: {}\n",
       "    },\n",
       "    lc_namespace: [ \u001b[32m\"langchain_core\"\u001b[39m, \u001b[32m\"messages\"\u001b[39m ],\n",
       "    content: \u001b[32m\"你是一个专业的翻译员，你的任务是将文本从中文翻译成法语。\"\u001b[39m,\n",
       "    name: \u001b[90mundefined\u001b[39m,\n",
       "    additional_kwargs: {},\n",
       "    response_metadata: {}\n",
       "  },\n",
       "  HumanMessage {\n",
       "    lc_serializable: \u001b[33mtrue\u001b[39m,\n",
       "    lc_kwargs: {\n",
       "      content: \u001b[32m\"请翻译这句话：你好，世界\"\u001b[39m,\n",
       "      additional_kwargs: {},\n",
       "      response_metadata: {}\n",
       "    },\n",
       "    lc_namespace: [ \u001b[32m\"langchain_core\"\u001b[39m, \u001b[32m\"messages\"\u001b[39m ],\n",
       "    content: \u001b[32m\"请翻译这句话：你好，世界\"\u001b[39m,\n",
       "    name: \u001b[90mundefined\u001b[39m,\n",
       "    additional_kwargs: {},\n",
       "    response_metadata: {}\n",
       "  }\n",
       "]"
      ]
     },
     "execution_count": 8,
     "metadata": {},
     "output_type": "execute_result"
    }
   ],
   "source": [
    "import { SystemMessagePromptTemplate } from \"@langchain/core/prompts\"\n",
    "import { HumanMessagePromptTemplate } from \"@langchain/core/prompts\";\n",
    "import { ChatPromptTemplate } from \"@langchain/core/prompts\";\n",
    "\n",
    "const translateInstructionTemplate = SystemMessagePromptTemplate.fromTemplate(`你是一个专\n",
    "    业的翻译员，你的任务是将文本从{source_lang}翻译成{target_lang}。`);\n",
    "const userQuestionTemplate = HumanMessagePromptTemplate.fromTemplate(\"请翻译这句话：{text}\")\n",
    "\n",
    "// const chatPrompt = ChatPromptTemplate.fromMessages([\n",
    "//     translateInstructionTemplate,\n",
    "//     userQuestionTemplate,\n",
    "// ]);\n",
    "const systemTemplate = \"你是一个专业的翻译员，你的任务是将文本从{source_lang}翻译成{target_lang}。\";\n",
    "const humanTemplate = \"请翻译这句话：{text}\";\n",
    "\n",
    "const chatPrompt = ChatPromptTemplate.fromMessages([\n",
    "  [\"system\", systemTemplate],\n",
    "  [\"human\", humanTemplate],\n",
    "]);\n",
    "const formattedChatPrompt = await chatPrompt.formatMessages({\n",
    "    source_lang: \"中文\",\n",
    "    target_lang: \"法语\",\n",
    "    text: \"你好，世界\",\n",
    "});\n",
    "formattedChatPrompt"
   ]
  },
  {
   "cell_type": "code",
   "execution_count": null,
   "id": "c4404ec7",
   "metadata": {},
   "outputs": [],
   "source": [
    "import {load} from \"dotenv\"\n",
    "import {ChatOllama} from \"@langchain/community/chat_models/ollama\"\n",
    "import {StringOutputParser} from \"@langchain/core/output_parsers\"\n",
    "\n",
    "const env = await load()\n",
    "const process = {\n",
    "    env\n",
    "} \n",
    "const chatModel = new ChatOllama({\n",
    "    model: \"qwen3:8b\",\n",
    "    baseUrl: \"http://localhost:11434\",\n",
    "  })\n",
    "const outputParser = new StringOutputParser()\n",
    "\n",
    "const chain = chatPrompt.pipe(chatModel).pipe(outputParser)\n",
    "\n",
    "const res = await chain.invoke({\n",
    "    source_lang: \"中文\",\n",
    "    target_lang: \"法语\",\n",
    "    text: \"你好，世界\",\n",
    "})\n",
    "process.env"
   ]
  },
  {
   "cell_type": "code",
   "execution_count": null,
   "id": "08b9b627",
   "metadata": {},
   "outputs": [],
   "source": [
    "res"
   ]
  },
  {
   "cell_type": "code",
   "execution_count": null,
   "id": "6641c901",
   "metadata": {},
   "outputs": [],
   "source": [
    "// PipelinePromptTemplate\n",
    "import {\n",
    "    PromptTemplate,\n",
    "    PipelinePromptTemplate,\n",
    "  } from \"@langchain/core/prompts\";\n",
    "  \n",
    "  const getCurrentDateStr = () => {\n",
    "    return new Date().toLocaleDateString();\n",
    "  };\n",
    "  \n",
    "  const fullPrompt = PromptTemplate.fromTemplate(`\n",
    "  你是一个智能管家，今天是 {date}，你的主人的信息是{info}, \n",
    "  根据上下文，完成主人的需求\n",
    "  {task}`);\n",
    "  \n",
    "  const datePrompt = PromptTemplate.fromTemplate(\"{date}，现在是 {period}\")\n",
    "  const periodPrompt = await datePrompt.partial({\n",
    "      date: getCurrentDateStr\n",
    "  })\n",
    "  \n",
    "  const infoPrompt =  PromptTemplate.fromTemplate(\"姓名是 {name}, 性别是 {gender}\");\n",
    "  \n",
    "  const taskPrompt = PromptTemplate.fromTemplate(`\n",
    "  我想吃 {period} 的 {food}。 \n",
    "  再重复一遍我的信息 {info}`);\n",
    "  \n",
    "  const composedPrompt = new PipelinePromptTemplate({\n",
    "    pipelinePrompts: [\n",
    "      {\n",
    "        name: \"date\",\n",
    "        prompt: periodPrompt,\n",
    "      },\n",
    "      {\n",
    "        name: \"info\",\n",
    "        prompt: infoPrompt,\n",
    "      },\n",
    "      {\n",
    "        name: \"task\",\n",
    "        prompt: taskPrompt,\n",
    "      },\n",
    "    ],\n",
    "    finalPrompt: fullPrompt,\n",
    "  });\n",
    "  \n",
    "  const formattedPrompt = await composedPrompt.format({\n",
    "      period: \"早上\",\n",
    "      name: \"张三\",\n",
    "      gender: \"male\",\n",
    "      food: \"lemon\"\n",
    "  });\n",
    "  formattedPrompt\n",
    "\n",
    "  /**\n",
    "   * \n",
    "   * 一个变量可以多次复用，例如外界输入的 period 在 periodPrompt 和 taskPrompt 都被使用了\n",
    "pipelinePrompts 中的变量可以被引用，例如我们在 taskPrompt 使用了 infoPrompt 的运行结果\n",
    "支持动态自定义和 partial。例子中我们也涉及到了这两种特殊的 template\n",
    "langchain 会自动分析 pipeline 之间的依赖关系，尽可能的进行并行化来提高运行速度\n",
    "   */"
   ]
  }
 ],
 "metadata": {
  "kernelspec": {
   "display_name": "Deno",
   "language": "typescript",
   "name": "deno"
  },
  "language_info": {
   "codemirror_mode": "typescript",
   "file_extension": ".ts",
   "mimetype": "text/x.typescript",
   "name": "typescript",
   "nbconvert_exporter": "script",
   "pygments_lexer": "typescript",
   "version": "5.8.3"
  }
 },
 "nbformat": 4,
 "nbformat_minor": 5
}
