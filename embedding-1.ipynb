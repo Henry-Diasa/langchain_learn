{
 "cells": [
  {
   "cell_type": "code",
   "execution_count": null,
   "id": "fde8bf6a",
   "metadata": {},
   "outputs": [],
   "source": [
    "import {Document} from \"langchain/document\"\n",
    "\n",
    "const test = new Document({\n",
    "    pageContent: \"Hello, world!\",\n",
    "    metadata: {\n",
    "        source: \"test.txt\",\n",
    "    },\n",
    "})\n",
    "\n",
    "test\n"
   ]
  },
  {
   "cell_type": "code",
   "execution_count": null,
   "id": "9a0df38f",
   "metadata": {},
   "outputs": [],
   "source": [
    "import {TextLoader} from \"langchain/document_loaders/fs/text\"\n",
    "\n",
    "const loader = new TextLoader(\"data/test.txt\")\n",
    "const docs = await loader.load()\n",
    "docs\n",
    "\n",
    "\n"
   ]
  },
  {
   "cell_type": "code",
   "execution_count": null,
   "id": "ea65e331",
   "metadata": {},
   "outputs": [],
   "source": [
    "import * as pdfParse from \"pdf-parse\";\n",
    "import {PDFLoader} from \"langchain/document_loaders/fs/pdf\"\n",
    "\n",
    "\n",
    "// const loader = new PDFLoader(\"data/github-copliot.pdf\")\n",
    "const loader = new PDFLoader(\"data/github-copliot.pdf\", {splitPages: false})\n",
    "const docs = await loader.load()\n",
    "docs\n"
   ]
  },
  {
   "cell_type": "code",
   "execution_count": null,
   "id": "773fe7da",
   "metadata": {},
   "outputs": [],
   "source": [
    "import {DirectoryLoader} from \"langchain/document_loaders/fs/directory\"\n",
    "\n",
    "const loader = new DirectoryLoader(\"data/\", {\n",
    "    \".pdf\": (path) => new PDFLoader(path, {splitPages: false}),\n",
    "    \".txt\": (path) => new TextLoader(path),\n",
    "})\n",
    "const docs = await loader.load()\n",
    "docs\n",
    "\n",
    "\n"
   ]
  },
  {
   "cell_type": "code",
   "execution_count": null,
   "id": "3b2a5c19",
   "metadata": {},
   "outputs": [],
   "source": [
    "import { GithubRepoLoader } from \"langchain/document_loaders/web/github\";\n",
    "import ignore from \"ignore\";\n",
    "\n",
    "const loader = new GithubRepoLoader(\n",
    "    \"https://github.com/RealKai42/qwerty-learner\",\n",
    "    { \n",
    "        branch: \"master\",\n",
    "        recursive: false, \n",
    "        unknown: \"warn\", \n",
    "        ignorePaths: [\"*.md\", \"yarn.lock\", \"*.json\"],\n",
    "        accessToken: env[\"GITHUB_TOKEN\"]\n",
    "    }\n",
    "  );"
   ]
  },
  {
   "cell_type": "code",
   "execution_count": null,
   "id": "b46e3dfe",
   "metadata": {},
   "outputs": [],
   "source": [
    "import \"cheerio\";\n",
    "import { CheerioWebBaseLoader } from \"langchain/document_loaders/web/cheerio\";\n",
    "\n",
    "const loader = new CheerioWebBaseLoader(\n",
    "  \"https://kaiyi.cool/blog/github-copilot\",\n",
    "  {\n",
    "    selector: \"h3\",\n",
    "  }\n",
    ");\n",
    "\n",
    "const docs = await loader.load();"
   ]
  },
  {
   "cell_type": "code",
   "execution_count": null,
   "id": "b665dcb2",
   "metadata": {},
   "outputs": [],
   "source": [
    "import { SerpAPILoader } from \"langchain/document_loaders/web/serpapi\";\n",
    "\n",
    "const apiKey = env[\"SERP_KEY\"]\n",
    "const question = \"什么 github copliot\"\n",
    "const loader = new SerpAPILoader({ q: question, apiKey });\n",
    "const docs = await loader.load();"
   ]
  }
 ],
 "metadata": {
  "kernelspec": {
   "display_name": "Deno",
   "language": "typescript",
   "name": "deno"
  },
  "language_info": {
   "codemirror_mode": "typescript",
   "file_extension": ".ts",
   "mimetype": "text/x.typescript",
   "name": "typescript",
   "nbconvert_exporter": "script",
   "pygments_lexer": "typescript",
   "version": "5.8.3"
  }
 },
 "nbformat": 4,
 "nbformat_minor": 5
}
